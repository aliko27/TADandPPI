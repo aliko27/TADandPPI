{
 "cells": [
  {
   "cell_type": "code",
   "execution_count": 1,
   "metadata": {},
   "outputs": [],
   "source": [
    "import obonet  # For reading OBO files into network graphs\n",
    "import networkx as nx  # For working with network/graph data structures\n",
    "import pandas as pd"
   ]
  },
  {
   "cell_type": "code",
   "execution_count": 2,
   "metadata": {},
   "outputs": [],
   "source": [
    "dataPath = \"data/\"\n",
    "url = dataPath + \"www.ebi.ac.uk.txt\""
   ]
  },
  {
   "cell_type": "code",
   "execution_count": 3,
   "metadata": {},
   "outputs": [],
   "source": [
    "efo_graph = obonet.read_obo(open(url, \"r\", encoding=\"utf8\"))"
   ]
  },
  {
   "cell_type": "code",
   "execution_count": 4,
   "metadata": {},
   "outputs": [
    {
     "name": "stdout",
     "output_type": "stream",
     "text": [
      "19317\n",
      "2958\n"
     ]
    }
   ],
   "source": [
    "allDiseases = list(set(nx.ancestors(efo_graph, \"EFO:0000408\")))  # List of all parent terms related to \"disease\"\n",
    "print(len(allDiseases))\n",
    "allCancers = list(set(nx.ancestors(efo_graph, \"MONDO:0004992\")))\n",
    "print(len(allCancers))"
   ]
  },
  {
   "cell_type": "code",
   "execution_count": 5,
   "metadata": {},
   "outputs": [],
   "source": [
    "gwasCatalogEns = pd.read_csv(\n",
    "    dataPath + \"gwas_catalog_v1.0.2-associations_e113_r2024-12-19.tsv\",\n",
    "    low_memory=False,  # Avoid warnings for mixed types in columns\n",
    "    sep=\"\\t\"  # Specify tab as the column separator\n",
    ")"
   ]
  },
  {
   "cell_type": "code",
   "execution_count": 6,
   "metadata": {},
   "outputs": [],
   "source": [
    "gwasCatalogEns[\"efoID\"] = (\n",
    "    gwasCatalogEns[\"MAPPED_TRAIT_URI\"]\n",
    "    .str.split(\"/\")  # Split the URI string by \"/\"\n",
    "    .str[-1]  # Take the last segment (EFO ID)\n",
    "    .str.replace(\"_\", \":\")  # Replace underscores with colons for correct formatting\n",
    ")"
   ]
  },
  {
   "cell_type": "code",
   "execution_count": 7,
   "metadata": {},
   "outputs": [
    {
     "name": "stdout",
     "output_type": "stream",
     "text": [
      "692444\n"
     ]
    }
   ],
   "source": [
    "gwasCatalogEns[\"name\"] = (\n",
    "    gwasCatalogEns[\"MAPPED_TRAIT\"]\n",
    ")\n",
    "print(len(gwasCatalogEns))"
   ]
  },
  {
   "cell_type": "code",
   "execution_count": 8,
   "metadata": {},
   "outputs": [],
   "source": [
    "notDiseasesInGWAS = list(set(gwasCatalogEns.efoID).difference(set(allDiseases)))"
   ]
  },
  {
   "cell_type": "code",
   "execution_count": 9,
   "metadata": {},
   "outputs": [],
   "source": [
    "efoID_intersection = set(gwasCatalogEns.efoID).intersection(set(allDiseases))\n",
    "filtered_df = gwasCatalogEns[gwasCatalogEns['efoID'].isin(efoID_intersection)]\n",
    "allDiseasesInGWAS = dict(zip(filtered_df['efoID'], filtered_df['name']))"
   ]
  },
  {
   "cell_type": "code",
   "execution_count": 10,
   "metadata": {},
   "outputs": [
    {
     "name": "stdout",
     "output_type": "stream",
     "text": [
      "Data successfully written to allDiseases.txt\n",
      "1322\n"
     ]
    }
   ],
   "source": [
    "try:\n",
    "    with open(\"data/allDiseases.txt\", \"w\") as file:\n",
    "        for efo_id, name in allDiseasesInGWAS.items():\n",
    "            file.write(f\"{efo_id}\\t{name}\\n\")\n",
    "    print(\"Data successfully written to allDiseases.txt\")\n",
    "except Exception as e:\n",
    "    print(f\"An error occurred while writing to the file: {e}\")\n",
    "    \n",
    "print(len(allDiseasesInGWAS))\n",
    "    "
   ]
  },
  {
   "cell_type": "code",
   "execution_count": 12,
   "metadata": {},
   "outputs": [
    {
     "name": "stdout",
     "output_type": "stream",
     "text": [
      "Data successfully written to allCancers.txt\n",
      "123\n"
     ]
    }
   ],
   "source": [
    "efoID_cancer_intersection = set(gwasCatalogEns.efoID).intersection(set(allCancers))\n",
    "filtered_df = gwasCatalogEns[gwasCatalogEns['efoID'].isin(efoID_cancer_intersection)]\n",
    "allCancersInGWAS = dict(zip(filtered_df['efoID'], filtered_df['name']))\n",
    "try:\n",
    "    with open(\"data/allCancers.txt\", \"w\") as file:\n",
    "        for efo_id, name in allCancersInGWAS.items():\n",
    "            file.write(f\"{efo_id}\\t{name}\\n\")\n",
    "    print(\"Data successfully written to allCancers.txt\")\n",
    "except Exception as e:\n",
    "    print(f\"An error occurred while writing to the file: {e}\")\n",
    "    \n",
    "print(len(allCancersInGWAS))"
   ]
  },
  {
   "cell_type": "code",
   "execution_count": 14,
   "metadata": {},
   "outputs": [
    {
     "name": "stdout",
     "output_type": "stream",
     "text": [
      "Data successfully written to allNonCancers.txt\n",
      "1199\n"
     ]
    }
   ],
   "source": [
    "efoID_noncancer_intersection = set(set(gwasCatalogEns.efoID).intersection(set(allDiseases))).difference(set(allCancers))\n",
    "filtered_df = gwasCatalogEns[gwasCatalogEns['efoID'].isin(efoID_noncancer_intersection)]\n",
    "allNonCancersInGWAS = dict(zip(filtered_df['efoID'], filtered_df['name']))\n",
    "try:\n",
    "    with open(\"allNonCancers.txt\", \"w\") as file:\n",
    "        for efo_id, name in allNonCancersInGWAS.items():\n",
    "            file.write(f\"{efo_id}\\t{name}\\n\")\n",
    "    print(\"Data successfully written to allNonCancers.txt\")\n",
    "except Exception as e:\n",
    "    print(f\"An error occurred while writing to the file: {e}\")\n",
    "    \n",
    "print(len(allNonCancersInGWAS))"
   ]
  }
 ],
 "metadata": {
  "kernelspec": {
   "display_name": "Python 3.11.11 ('base')",
   "language": "python",
   "name": "python3"
  },
  "language_info": {
   "codemirror_mode": {
    "name": "ipython",
    "version": 3
   },
   "file_extension": ".py",
   "mimetype": "text/x-python",
   "name": "python",
   "nbconvert_exporter": "python",
   "pygments_lexer": "ipython3",
   "version": "3.11.11"
  },
  "orig_nbformat": 4,
  "vscode": {
   "interpreter": {
    "hash": "400aebe79d2e34ca9f7f50cf1053a29eedbb3630ef57d1201b4a7bc3383047a7"
   }
  }
 },
 "nbformat": 4,
 "nbformat_minor": 2
}
