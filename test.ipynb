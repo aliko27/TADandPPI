{
 "cells": [
  {
   "cell_type": "code",
   "execution_count": 1,
   "metadata": {},
   "outputs": [],
   "source": [
    "from disease import Disease, StringAPI"
   ]
  },
  {
   "cell_type": "code",
   "execution_count": 5,
   "metadata": {},
   "outputs": [
    {
     "name": "stdout",
     "output_type": "stream",
     "text": [
      "Genes mapped to allergic rhinitis: ['RN7SL474P - FGF20', 'LINC02240', 'LINC02920 - CYCSP42', 'HMGB3P18 - RNU1-18P', 'FERD3L - POLR1F', 'LINC01426', 'PRDM16', 'BSND', 'LINC00486', 'DLG1-AS1 - LINC02012', 'SYCP2L', 'FAM157D - LINC03015', 'NKAIN3', 'RN7SKP120 - TUSC1', 'RNU6-1228P - OTX2P1', 'ABCA1', 'LINC00705 - AKR1E2', 'THAP12P4 - LINC02726', 'RN7SKP297 - CHRDL2', 'DYRK4', 'ST8SIA2', 'RBFOX1', 'FTO', 'CDRT8 - PMP22', 'LAMA3', 'ZNF671 - ZNF776', 'RBX1 - Y_RNA', 'HLA-DQA1 - HLA-DQB1', 'IL18R1', 'IL1RL1', 'TLR1', 'WDR36 - RPS3AP21', 'EMSY - LINC02757', 'HLA-B', 'CLEC16A - HNRNPCP4', 'ZPBP2', 'IL2 - IL21', 'LINC00299', 'RANBP6 - GTF3AP1', 'PLCL1', 'LPP', 'LINC02676 - LINC00709', 'SMAD3', 'RPL13AP18 - RNU6-1213P', 'SULT1A1', 'RAD50', 'TTC6', 'PVT1', 'NFATC2', 'IL7R', 'CDK2AP1', 'BACH2', 'COX7CP3 - SETP16', 'FCER1G', 'RTF1', 'NFKB1', 'JAZF1', 'ATXN2', 'ABO', 'DCAF1', 'FOSL2-AS1', 'MFSD13A', 'ACTR1A', 'NEGR1 - RPL31P12', 'SLC7A10 - CEBPA', 'SPPL3', 'DAW1', 'RORA', 'RERE', 'LINC02341', 'AQP5-AS1', 'AQP2', 'SIK3', 'MIER1', 'SLC25A46 - BCLAF1P1', 'CCR7 - SMARCE1', 'ALOX15', 'D2HGDH', 'SPEF2 - IL7R', 'CLEC16A', 'MIR3142HG', 'EYA2', 'MTND4LP25 - CBLN1', 'CD247', 'BCL6 - LINC01991', 'RPS26 - ERBB3', 'ZNF217', 'IQGAP1', 'ADAD1', 'GTF3AP1 - IL33', 'ITGB8', 'POLR1HASP', 'NEPRO-AS1 - BOC', 'TSLP - WDR36', 'DLC1']\n"
     ]
    },
    {
     "data": {
      "text/plain": [
       "['RN7SL474P - FGF20',\n",
       " 'LINC02240',\n",
       " 'LINC02920 - CYCSP42',\n",
       " 'HMGB3P18 - RNU1-18P',\n",
       " 'FERD3L - POLR1F',\n",
       " 'LINC01426',\n",
       " 'PRDM16',\n",
       " 'BSND',\n",
       " 'LINC00486',\n",
       " 'DLG1-AS1 - LINC02012',\n",
       " 'SYCP2L',\n",
       " 'FAM157D - LINC03015',\n",
       " 'NKAIN3',\n",
       " 'RN7SKP120 - TUSC1',\n",
       " 'RNU6-1228P - OTX2P1',\n",
       " 'ABCA1',\n",
       " 'LINC00705 - AKR1E2',\n",
       " 'THAP12P4 - LINC02726',\n",
       " 'RN7SKP297 - CHRDL2',\n",
       " 'DYRK4',\n",
       " 'ST8SIA2',\n",
       " 'RBFOX1',\n",
       " 'FTO',\n",
       " 'CDRT8 - PMP22',\n",
       " 'LAMA3',\n",
       " 'ZNF671 - ZNF776',\n",
       " 'RBX1 - Y_RNA',\n",
       " 'HLA-DQA1 - HLA-DQB1',\n",
       " 'IL18R1',\n",
       " 'IL1RL1',\n",
       " 'TLR1',\n",
       " 'WDR36 - RPS3AP21',\n",
       " 'EMSY - LINC02757',\n",
       " 'HLA-B',\n",
       " 'CLEC16A - HNRNPCP4',\n",
       " 'ZPBP2',\n",
       " 'IL2 - IL21',\n",
       " 'LINC00299',\n",
       " 'RANBP6 - GTF3AP1',\n",
       " 'PLCL1',\n",
       " 'LPP',\n",
       " 'LINC02676 - LINC00709',\n",
       " 'SMAD3',\n",
       " 'RPL13AP18 - RNU6-1213P',\n",
       " 'SULT1A1',\n",
       " 'RAD50',\n",
       " 'TTC6',\n",
       " 'PVT1',\n",
       " 'NFATC2',\n",
       " 'IL7R',\n",
       " 'CDK2AP1',\n",
       " 'BACH2',\n",
       " 'COX7CP3 - SETP16',\n",
       " 'FCER1G',\n",
       " 'RTF1',\n",
       " 'NFKB1',\n",
       " 'JAZF1',\n",
       " 'ATXN2',\n",
       " 'ABO',\n",
       " 'DCAF1',\n",
       " 'FOSL2-AS1',\n",
       " 'MFSD13A',\n",
       " 'ACTR1A',\n",
       " 'NEGR1 - RPL31P12',\n",
       " 'SLC7A10 - CEBPA',\n",
       " 'SPPL3',\n",
       " 'DAW1',\n",
       " 'RORA',\n",
       " 'RERE',\n",
       " 'LINC02341',\n",
       " 'AQP5-AS1',\n",
       " 'AQP2',\n",
       " 'SIK3',\n",
       " 'MIER1',\n",
       " 'SLC25A46 - BCLAF1P1',\n",
       " 'CCR7 - SMARCE1',\n",
       " 'ALOX15',\n",
       " 'D2HGDH',\n",
       " 'SPEF2 - IL7R',\n",
       " 'CLEC16A',\n",
       " 'MIR3142HG',\n",
       " 'EYA2',\n",
       " 'MTND4LP25 - CBLN1',\n",
       " 'CD247',\n",
       " 'BCL6 - LINC01991',\n",
       " 'RPS26 - ERBB3',\n",
       " 'ZNF217',\n",
       " 'IQGAP1',\n",
       " 'ADAD1',\n",
       " 'GTF3AP1 - IL33',\n",
       " 'ITGB8',\n",
       " 'POLR1HASP',\n",
       " 'NEPRO-AS1 - BOC',\n",
       " 'TSLP - WDR36',\n",
       " 'DLC1']"
      ]
     },
     "execution_count": 5,
     "metadata": {},
     "output_type": "execute_result"
    }
   ],
   "source": [
    "disease = Disease('allergic rhinitis', 'EFO_0005854')\n",
    "disease.get_genes()\n"
   ]
  },
  {
   "cell_type": "code",
   "execution_count": 6,
   "metadata": {},
   "outputs": [
    {
     "name": "stdout",
     "output_type": "stream",
     "text": [
      "Proteins: 50\n",
      "\n"
     ]
    },
    {
     "data": {
      "text/plain": [
       "['9606.ENSP00000270722',\n",
       " '9606.ENSP00000498282',\n",
       " '9606.ENSP00000283141',\n",
       " '9606.ENSP00000429073',\n",
       " '9606.ENSP00000363868',\n",
       " '9606.ENSP00000441755',\n",
       " '9606.ENSP00000268164',\n",
       " '9606.ENSP00000391269',\n",
       " '9606.ENSP00000418823',\n",
       " '9606.ENSP00000324532',\n",
       " '9606.ENSP00000387211',\n",
       " '9606.ENSP00000233954',\n",
       " '9606.ENSP00000354932',\n",
       " '9606.ENSP00000399168',\n",
       " '9606.ENSP00000335384',\n",
       " '9606.ENSP00000402861',\n",
       " '9606.ENSP00000491657',\n",
       " '9606.ENSP00000332973',\n",
       " '9606.ENSP00000378972',\n",
       " '9606.ENSP00000368100',\n",
       " '9606.ENSP00000379330',\n",
       " '9606.ENSP00000306157',\n",
       " '9606.ENSP00000261692',\n",
       " '9606.ENSP00000257749',\n",
       " '9606.ENSP00000289902',\n",
       " '9606.ENSP00000374280',\n",
       " '9606.ENSP00000226574',\n",
       " '9606.ENSP00000283928',\n",
       " '9606.ENSP00000446576',\n",
       " '9606.ENSP00000483018',\n",
       " '9606.ENSP00000393183',\n",
       " '9606.ENSP00000238936',\n",
       " '9606.ENSP00000358921',\n",
       " '9606.ENSP00000288680',\n",
       " '9606.ENSP00000311899',\n",
       " '9606.ENSP00000261523',\n",
       " '9606.ENSP00000338629',\n",
       " '9606.ENSP00000199280',\n",
       " '9606.ENSP00000364449',\n",
       " '9606.ENSP00000383820',\n",
       " '9606.ENSP00000293761',\n",
       " '9606.ENSP00000315351',\n",
       " '9606.ENSP00000387122',\n",
       " '9606.ENSP00000333640',\n",
       " '9606.ENSP00000354782',\n",
       " '9606.ENSP00000360526',\n",
       " '9606.ENSP00000268182',\n",
       " '9606.ENSP00000296513',\n",
       " '9606.ENSP00000222573',\n",
       " '9606.ENSP00000276297']"
      ]
     },
     "execution_count": 6,
     "metadata": {},
     "output_type": "execute_result"
    }
   ],
   "source": [
    "disease.get_proteins()"
   ]
  },
  {
   "cell_type": "code",
   "execution_count": 7,
   "metadata": {},
   "outputs": [
    {
     "name": "stdout",
     "output_type": "stream",
     "text": [
      "Number of edges in the disease network: 8\n",
      "\n"
     ]
    },
    {
     "data": {
      "text/plain": [
       "8"
      ]
     },
     "execution_count": 7,
     "metadata": {},
     "output_type": "execute_result"
    }
   ],
   "source": [
    "disease.get_clustering(disease.proteins)"
   ]
  }
 ],
 "metadata": {
  "kernelspec": {
   "display_name": "Python 3.11.11 ('base')",
   "language": "python",
   "name": "python3"
  },
  "language_info": {
   "codemirror_mode": {
    "name": "ipython",
    "version": 3
   },
   "file_extension": ".py",
   "mimetype": "text/x-python",
   "name": "python",
   "nbconvert_exporter": "python",
   "pygments_lexer": "ipython3",
   "version": "3.11.11"
  },
  "orig_nbformat": 4,
  "vscode": {
   "interpreter": {
    "hash": "400aebe79d2e34ca9f7f50cf1053a29eedbb3630ef57d1201b4a7bc3383047a7"
   }
  }
 },
 "nbformat": 4,
 "nbformat_minor": 2
}
